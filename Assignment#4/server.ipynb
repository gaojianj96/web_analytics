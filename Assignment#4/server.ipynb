{
 "cells": [
  {
   "cell_type": "code",
   "execution_count": 40,
   "metadata": {
    "collapsed": false
   },
   "outputs": [],
   "source": [
    "from fabric.api import *\n",
    "\n",
    "env.host_string=\"ec2-54-213-133-175.us-west-2.compute.amazonaws.com\"\n",
    "env.user = \"ubuntu\"\n",
    "env.key_filename = ['D:\\\\Users\\\\gaoji\\\\PycharmProjects\\\\web_analytics/ChatBot/bia660.pem']"
   ]
  },
  {
   "cell_type": "code",
   "execution_count": 42,
   "metadata": {
    "collapsed": false
   },
   "outputs": [
    {
     "name": "stdout",
     "output_type": "stream",
     "text": [
      "[ec2-54-213-133-175.us-west-2.compute.amazonaws.com] sudo: service myproject stop\n",
      "[ec2-54-213-133-175.us-west-2.compute.amazonaws.com] sudo: service nginx stop\n"
     ]
    },
    {
     "data": {
      "text/plain": [
       "''"
      ]
     },
     "execution_count": 42,
     "metadata": {},
     "output_type": "execute_result"
    }
   ],
   "source": [
    "sudo('service myproject stop')\n",
    "sudo('service nginx stop')"
   ]
  },
  {
   "cell_type": "code",
   "execution_count": 43,
   "metadata": {
    "collapsed": true
   },
   "outputs": [],
   "source": [
    "import os\n",
    "os.chdir('D:\\\\Users\\\\gaoji\\\\PycharmProjects\\\\web_analytics\\\\Assignment#4')"
   ]
  },
  {
   "cell_type": "code",
   "execution_count": 44,
   "metadata": {
    "collapsed": false
   },
   "outputs": [
    {
     "data": {
      "text/plain": [
       "u'D:\\\\Users\\\\gaoji\\\\PycharmProjects\\\\web_analytics\\\\Assignment#4'"
      ]
     },
     "execution_count": 44,
     "metadata": {},
     "output_type": "execute_result"
    }
   ],
   "source": [
    "pwd"
   ]
  },
  {
   "cell_type": "code",
   "execution_count": 55,
   "metadata": {
    "collapsed": false
   },
   "outputs": [
    {
     "name": "stdout",
     "output_type": "stream",
     "text": [
      " Volume in drive D has no label.\n",
      " Volume Serial Number is 0004-9407\n",
      "\n",
      " Directory of D:\\Users\\gaoji\\PycharmProjects\\web_analytics\\Assignment#4\n",
      "\n",
      "03/04/2017  07:42 PM    <DIR>          .\n",
      "03/04/2017  07:42 PM    <DIR>          ..\n",
      "03/03/2017  11:18 PM    <DIR>          .ipynb_checkpoints\n",
      "03/04/2017  07:40 PM               109 Chatbot_Keys.py\n",
      "03/04/2017  07:42 PM               293 Chatbot_Keys.pyc\n",
      "03/04/2017  07:41 PM               372 Locate_google.py\n",
      "03/04/2017  07:42 PM               774 Locate_google.pyc\n",
      "03/04/2017  07:42 PM                 0 log_chatbot.log\n",
      "03/04/2017  07:37 PM             5,222 myproject.py\n",
      "03/04/2017  07:34 PM            18,635 server.ipynb\n",
      "03/04/2017  07:41 PM             1,197 stack_search_API.py\n",
      "03/04/2017  07:42 PM             1,426 stack_search_API.pyc\n",
      "03/04/2017  07:41 PM             3,915 weather_coord.py\n",
      "03/04/2017  07:42 PM             3,323 weather_coord.pyc\n",
      "              11 File(s)         35,266 bytes\n",
      "               3 Dir(s)  20,395,446,272 bytes free\n",
      "155.246.136.108 - - [05/Mar/2017 00:45:21] \"GET / HTTP/1.1\" 200 -\n",
      "[ec2-54-213-133-175.us-west-2.compute.amazonaws.com] out: "
     ]
    }
   ],
   "source": [
    "ls"
   ]
  },
  {
   "cell_type": "code",
   "execution_count": 75,
   "metadata": {
    "collapsed": true
   },
   "outputs": [],
   "source": [
    "pyfile='myproject.py'"
   ]
  },
  {
   "cell_type": "code",
   "execution_count": 76,
   "metadata": {
    "collapsed": false
   },
   "outputs": [
    {
     "name": "stdout",
     "output_type": "stream",
     "text": [
      "[ec2-54-213-133-175.us-west-2.compute.amazonaws.com] put: Chatbot_Keys.py -> /home/ubuntu/Chatbot_Keys.py\n",
      "[ec2-54-213-133-175.us-west-2.compute.amazonaws.com] put: Locate_google.py -> /home/ubuntu/Locate_google.py\n",
      "[ec2-54-213-133-175.us-west-2.compute.amazonaws.com] put: stack_search_API.py -> /home/ubuntu/stack_search_API.py\n",
      "[ec2-54-213-133-175.us-west-2.compute.amazonaws.com] put: weather_coord.py -> /home/ubuntu/weather_coord.py\n"
     ]
    },
    {
     "data": {
      "text/plain": [
       "[u'/home/ubuntu/weather_coord.py']"
      ]
     },
     "execution_count": 76,
     "metadata": {},
     "output_type": "execute_result"
    }
   ],
   "source": [
    "put('Chatbot_Keys.py')\n",
    "put('Locate_google.py')\n",
    "put('stack_search_API.py')\n",
    "put(\"weather_coord.py\")"
   ]
  },
  {
   "cell_type": "code",
   "execution_count": 77,
   "metadata": {
    "collapsed": false
   },
   "outputs": [
    {
     "name": "stdout",
     "output_type": "stream",
     "text": [
      "[ec2-54-213-133-175.us-west-2.compute.amazonaws.com] put: myproject.py -> /home/ubuntu/myproject.py\n"
     ]
    },
    {
     "data": {
      "text/plain": [
       "[u'/home/ubuntu/myproject.py']"
      ]
     },
     "execution_count": 77,
     "metadata": {},
     "output_type": "execute_result"
    }
   ],
   "source": [
    "put(pyfile)"
   ]
  },
  {
   "cell_type": "code",
   "execution_count": 78,
   "metadata": {
    "collapsed": false,
    "scrolled": true
   },
   "outputs": [
    {
     "name": "stdout",
     "output_type": "stream",
     "text": [
      "[ec2-54-213-133-175.us-west-2.compute.amazonaws.com] sudo: killall python\n"
     ]
    },
    {
     "data": {
      "text/plain": [
       "''"
      ]
     },
     "execution_count": 78,
     "metadata": {},
     "output_type": "execute_result"
    },
    {
     "name": "stdout",
     "output_type": "stream",
     "text": [
      "/bin/bash: line 1:  8731 Terminated              python myproject.py\n",
      "[ec2-54-213-133-175.us-west-2.compute.amazonaws.com] out: \n"
     ]
    }
   ],
   "source": [
    "sudo('killall python')"
   ]
  },
  {
   "cell_type": "code",
   "execution_count": null,
   "metadata": {
    "collapsed": false,
    "scrolled": true
   },
   "outputs": [
    {
     "name": "stdout",
     "output_type": "stream",
     "text": [
      "[ec2-54-213-133-175.us-west-2.compute.amazonaws.com] run: python myproject.py\n",
      "[ec2-54-213-133-175.us-west-2.compute.amazonaws.com] out:  * Running on http://0.0.0.0:41953/ (Press CTRL+C to quit)\n",
      "[ec2-54-213-133-175.us-west-2.compute.amazonaws.com] out: GET Weather AT 10038\n",
      "[ec2-54-213-133-175.us-west-2.compute.amazonaws.com] out: http://api.openweathermap.org/data/2.5/weather?lat=40.7071498&lon=-74.0021019&units=imperial&appid=426fb2682cbe2353277ef8f287c88d78\n",
      "[ec2-54-213-133-175.us-west-2.compute.amazonaws.com] out: http://api.openweathermap.org/data/2.5/forecast?lat=40.7071498&lon=-74.0021019&cnt=1&units=imperial&cnt=7&appid=426fb2682cbe2353277ef8f287c88d78\n",
      "[ec2-54-213-133-175.us-west-2.compute.amazonaws.com] out: https://maps.googleapis.com/maps/api/staticmap?center={},{}&zoom=15&size=640x400&key={}\n",
      "[ec2-54-213-133-175.us-west-2.compute.amazonaws.com] out: {u'clouds': {u'all': 0}, u'sys': {u'pod': u'n'}, u'dt_txt': u'2017-03-05 03:00:00', u'weather': [{u'main': u'Clear', u'id': 800, u'icon': u'01n', u'description': u'clear sky'}], u'dt': 1488682800, u'main': {u'temp_kf': -1.74, u'temp': 18.41, u'grnd_level': 1045.46, u'temp_max': 21.54, u'sea_level': 1049.21, u'humidity': 93, u'pressure': 1045.46, u'temp_min': 18.41}, u'wind': {u'speed': 13, u'deg': 333.006}}\n",
      "[ec2-54-213-133-175.us-west-2.compute.amazonaws.com] out: Forecast Date:2017-03-05 03:00:00\n",
      "[ec2-54-213-133-175.us-west-2.compute.amazonaws.com] out: 52.54.222.230 - - [05/Mar/2017 00:51:23] \"POST /slack HTTP/1.1\" 200 -\n",
      "[ec2-54-213-133-175.us-west-2.compute.amazonaws.com] out: 52.90.146.42 - - [05/Mar/2017 00:51:28] \"POST /slack HTTP/1.1\" 200 -\n",
      "[ec2-54-213-133-175.us-west-2.compute.amazonaws.com] out: "
     ]
    }
   ],
   "source": [
    "with prefix('source activate chatbot'):\n",
    "    run('python '+pyfile)"
   ]
  },
  {
   "cell_type": "code",
   "execution_count": 35,
   "metadata": {
    "collapsed": false
   },
   "outputs": [
    {
     "name": "stdout",
     "output_type": "stream",
     "text": [
      "[ec2-54-213-133-175.us-west-2.compute.amazonaws.com] sudo: service myproject start\n",
      "[ec2-54-213-133-175.us-west-2.compute.amazonaws.com] sudo: service nginx start\n",
      "[ec2-54-213-133-175.us-west-2.compute.amazonaws.com] out: Job for nginx.service failed because the control process exited with error code. See \"systemctl status nginx.service\" and \"journalctl -xe\" for details.\n",
      "[ec2-54-213-133-175.us-west-2.compute.amazonaws.com] out: \n",
      "\n"
     ]
    },
    {
     "name": "stderr",
     "output_type": "stream",
     "text": [
      "\n",
      "Fatal error: sudo() received nonzero return code 1 while executing!\n",
      "\n",
      "Requested: service nginx start\n",
      "Executed: sudo -S -p 'sudo password:'  /bin/bash -l -c \"service nginx start\"\n",
      "\n",
      "Aborting.\n"
     ]
    },
    {
     "ename": "SystemExit",
     "evalue": "1",
     "traceback": [
      "An exception has occurred, use %tb to see the full traceback.\n",
      "\u001b[0;31mSystemExit\u001b[0m\u001b[0;31m:\u001b[0m 1\n"
     ],
     "output_type": "error"
    }
   ],
   "source": [
    "sudo('service myproject start')\n",
    "sudo('service nginx start')"
   ]
  }
 ],
 "metadata": {
  "kernelspec": {
   "display_name": "Python 2",
   "language": "python",
   "name": "python2"
  },
  "language_info": {
   "codemirror_mode": {
    "name": "ipython",
    "version": 2.0
   },
   "file_extension": ".py",
   "mimetype": "text/x-python",
   "name": "python",
   "nbconvert_exporter": "python",
   "pygments_lexer": "ipython2",
   "version": "2.7.13"
  }
 },
 "nbformat": 4,
 "nbformat_minor": 0
}